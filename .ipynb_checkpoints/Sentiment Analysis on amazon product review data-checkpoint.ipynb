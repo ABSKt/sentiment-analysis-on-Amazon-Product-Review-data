{
 "cells": [
  {
   "cell_type": "markdown",
   "metadata": {},
   "source": [
    "# Sentiment Analysis on Amazon product review data\n",
    "\n",
    "### Author: Jurat Shayiding (jshayi2@uic.edu)"
   ]
  },
  {
   "cell_type": "code",
   "execution_count": 147,
   "metadata": {},
   "outputs": [],
   "source": [
    "## load python dependencies\n",
    "import pandas as pd\n",
    "import string\n",
    "from nltk.corpus import stopwords\n",
    "from nltk.tokenize import word_tokenize\n",
    "import matplotlib.pyplot as plt"
   ]
  },
  {
   "cell_type": "code",
   "execution_count": 148,
   "metadata": {},
   "outputs": [
    {
     "data": {
      "text/html": [
       "<div>\n",
       "<style scoped>\n",
       "    .dataframe tbody tr th:only-of-type {\n",
       "        vertical-align: middle;\n",
       "    }\n",
       "\n",
       "    .dataframe tbody tr th {\n",
       "        vertical-align: top;\n",
       "    }\n",
       "\n",
       "    .dataframe thead th {\n",
       "        text-align: right;\n",
       "    }\n",
       "</style>\n",
       "<table border=\"1\" class=\"dataframe\">\n",
       "  <thead>\n",
       "    <tr style=\"text-align: right;\">\n",
       "      <th></th>\n",
       "      <th>id</th>\n",
       "      <th>dateAdded</th>\n",
       "      <th>dateUpdated</th>\n",
       "      <th>name</th>\n",
       "      <th>asins</th>\n",
       "      <th>brand</th>\n",
       "      <th>categories</th>\n",
       "      <th>primaryCategories</th>\n",
       "      <th>imageURLs</th>\n",
       "      <th>keys</th>\n",
       "      <th>...</th>\n",
       "      <th>reviews.didPurchase</th>\n",
       "      <th>reviews.doRecommend</th>\n",
       "      <th>reviews.id</th>\n",
       "      <th>reviews.numHelpful</th>\n",
       "      <th>reviews.rating</th>\n",
       "      <th>reviews.sourceURLs</th>\n",
       "      <th>reviews.text</th>\n",
       "      <th>reviews.title</th>\n",
       "      <th>reviews.username</th>\n",
       "      <th>sourceURLs</th>\n",
       "    </tr>\n",
       "  </thead>\n",
       "  <tbody>\n",
       "    <tr>\n",
       "      <th>0</th>\n",
       "      <td>AVpgNzjwLJeJML43Kpxn</td>\n",
       "      <td>2015-10-30T08:59:32Z</td>\n",
       "      <td>2019-04-25T09:08:16Z</td>\n",
       "      <td>AmazonBasics AAA Performance Alkaline Batterie...</td>\n",
       "      <td>B00QWO9P0O,B00LH3DMUO</td>\n",
       "      <td>Amazonbasics</td>\n",
       "      <td>AA,AAA,Health,Electronics,Health &amp; Household,C...</td>\n",
       "      <td>Health &amp; Beauty</td>\n",
       "      <td>https://images-na.ssl-images-amazon.com/images...</td>\n",
       "      <td>amazonbasics/hl002619,amazonbasicsaaaperforman...</td>\n",
       "      <td>...</td>\n",
       "      <td>NaN</td>\n",
       "      <td>NaN</td>\n",
       "      <td>NaN</td>\n",
       "      <td>NaN</td>\n",
       "      <td>3</td>\n",
       "      <td>https://www.amazon.com/product-reviews/B00QWO9...</td>\n",
       "      <td>I order 3 of them and one of the item is bad q...</td>\n",
       "      <td>... 3 of them and one of the item is bad quali...</td>\n",
       "      <td>Byger yang</td>\n",
       "      <td>https://www.barcodable.com/upc/841710106442,ht...</td>\n",
       "    </tr>\n",
       "    <tr>\n",
       "      <th>1</th>\n",
       "      <td>AVpgNzjwLJeJML43Kpxn</td>\n",
       "      <td>2015-10-30T08:59:32Z</td>\n",
       "      <td>2019-04-25T09:08:16Z</td>\n",
       "      <td>AmazonBasics AAA Performance Alkaline Batterie...</td>\n",
       "      <td>B00QWO9P0O,B00LH3DMUO</td>\n",
       "      <td>Amazonbasics</td>\n",
       "      <td>AA,AAA,Health,Electronics,Health &amp; Household,C...</td>\n",
       "      <td>Health &amp; Beauty</td>\n",
       "      <td>https://images-na.ssl-images-amazon.com/images...</td>\n",
       "      <td>amazonbasics/hl002619,amazonbasicsaaaperforman...</td>\n",
       "      <td>...</td>\n",
       "      <td>NaN</td>\n",
       "      <td>NaN</td>\n",
       "      <td>NaN</td>\n",
       "      <td>NaN</td>\n",
       "      <td>4</td>\n",
       "      <td>https://www.amazon.com/product-reviews/B00QWO9...</td>\n",
       "      <td>Bulk is always the less expensive way to go fo...</td>\n",
       "      <td>... always the less expensive way to go for pr...</td>\n",
       "      <td>ByMG</td>\n",
       "      <td>https://www.barcodable.com/upc/841710106442,ht...</td>\n",
       "    </tr>\n",
       "    <tr>\n",
       "      <th>2</th>\n",
       "      <td>AVpgNzjwLJeJML43Kpxn</td>\n",
       "      <td>2015-10-30T08:59:32Z</td>\n",
       "      <td>2019-04-25T09:08:16Z</td>\n",
       "      <td>AmazonBasics AAA Performance Alkaline Batterie...</td>\n",
       "      <td>B00QWO9P0O,B00LH3DMUO</td>\n",
       "      <td>Amazonbasics</td>\n",
       "      <td>AA,AAA,Health,Electronics,Health &amp; Household,C...</td>\n",
       "      <td>Health &amp; Beauty</td>\n",
       "      <td>https://images-na.ssl-images-amazon.com/images...</td>\n",
       "      <td>amazonbasics/hl002619,amazonbasicsaaaperforman...</td>\n",
       "      <td>...</td>\n",
       "      <td>NaN</td>\n",
       "      <td>NaN</td>\n",
       "      <td>NaN</td>\n",
       "      <td>NaN</td>\n",
       "      <td>5</td>\n",
       "      <td>https://www.amazon.com/product-reviews/B00QWO9...</td>\n",
       "      <td>Well they are not Duracell but for the price i...</td>\n",
       "      <td>... are not Duracell but for the price i am ha...</td>\n",
       "      <td>BySharon Lambert</td>\n",
       "      <td>https://www.barcodable.com/upc/841710106442,ht...</td>\n",
       "    </tr>\n",
       "  </tbody>\n",
       "</table>\n",
       "<p>3 rows × 24 columns</p>\n",
       "</div>"
      ],
      "text/plain": [
       "                     id             dateAdded           dateUpdated  \\\n",
       "0  AVpgNzjwLJeJML43Kpxn  2015-10-30T08:59:32Z  2019-04-25T09:08:16Z   \n",
       "1  AVpgNzjwLJeJML43Kpxn  2015-10-30T08:59:32Z  2019-04-25T09:08:16Z   \n",
       "2  AVpgNzjwLJeJML43Kpxn  2015-10-30T08:59:32Z  2019-04-25T09:08:16Z   \n",
       "\n",
       "                                                name                  asins  \\\n",
       "0  AmazonBasics AAA Performance Alkaline Batterie...  B00QWO9P0O,B00LH3DMUO   \n",
       "1  AmazonBasics AAA Performance Alkaline Batterie...  B00QWO9P0O,B00LH3DMUO   \n",
       "2  AmazonBasics AAA Performance Alkaline Batterie...  B00QWO9P0O,B00LH3DMUO   \n",
       "\n",
       "          brand                                         categories  \\\n",
       "0  Amazonbasics  AA,AAA,Health,Electronics,Health & Household,C...   \n",
       "1  Amazonbasics  AA,AAA,Health,Electronics,Health & Household,C...   \n",
       "2  Amazonbasics  AA,AAA,Health,Electronics,Health & Household,C...   \n",
       "\n",
       "  primaryCategories                                          imageURLs  \\\n",
       "0   Health & Beauty  https://images-na.ssl-images-amazon.com/images...   \n",
       "1   Health & Beauty  https://images-na.ssl-images-amazon.com/images...   \n",
       "2   Health & Beauty  https://images-na.ssl-images-amazon.com/images...   \n",
       "\n",
       "                                                keys  ... reviews.didPurchase  \\\n",
       "0  amazonbasics/hl002619,amazonbasicsaaaperforman...  ...                 NaN   \n",
       "1  amazonbasics/hl002619,amazonbasicsaaaperforman...  ...                 NaN   \n",
       "2  amazonbasics/hl002619,amazonbasicsaaaperforman...  ...                 NaN   \n",
       "\n",
       "  reviews.doRecommend reviews.id reviews.numHelpful reviews.rating  \\\n",
       "0                 NaN        NaN                NaN              3   \n",
       "1                 NaN        NaN                NaN              4   \n",
       "2                 NaN        NaN                NaN              5   \n",
       "\n",
       "                                  reviews.sourceURLs  \\\n",
       "0  https://www.amazon.com/product-reviews/B00QWO9...   \n",
       "1  https://www.amazon.com/product-reviews/B00QWO9...   \n",
       "2  https://www.amazon.com/product-reviews/B00QWO9...   \n",
       "\n",
       "                                        reviews.text  \\\n",
       "0  I order 3 of them and one of the item is bad q...   \n",
       "1  Bulk is always the less expensive way to go fo...   \n",
       "2  Well they are not Duracell but for the price i...   \n",
       "\n",
       "                                       reviews.title  reviews.username  \\\n",
       "0  ... 3 of them and one of the item is bad quali...        Byger yang   \n",
       "1  ... always the less expensive way to go for pr...              ByMG   \n",
       "2  ... are not Duracell but for the price i am ha...  BySharon Lambert   \n",
       "\n",
       "                                          sourceURLs  \n",
       "0  https://www.barcodable.com/upc/841710106442,ht...  \n",
       "1  https://www.barcodable.com/upc/841710106442,ht...  \n",
       "2  https://www.barcodable.com/upc/841710106442,ht...  \n",
       "\n",
       "[3 rows x 24 columns]"
      ]
     },
     "execution_count": 148,
     "metadata": {},
     "output_type": "execute_result"
    }
   ],
   "source": [
    "### read product review dataset\n",
    "data=pd.read_csv(\"amazon_prod_dataset\\Datafiniti_Amazon_Consumer_Reviews_of_Amazon_Products_May19.csv\")\n",
    "data.head(3)"
   ]
  },
  {
   "cell_type": "code",
   "execution_count": 149,
   "metadata": {},
   "outputs": [
    {
     "name": "stdout",
     "output_type": "stream",
     "text": [
      "dim:  (28332, 24)\n",
      "----------------\n",
      "total rows: 28332\n",
      "----------------\n",
      "toal columns:  24\n",
      "----------------\n",
      "columns: \n",
      " ['id' 'dateAdded' 'dateUpdated' 'name' 'asins' 'brand' 'categories'\n",
      " 'primaryCategories' 'imageURLs' 'keys' 'manufacturer'\n",
      " 'manufacturerNumber' 'reviews.date' 'reviews.dateSeen'\n",
      " 'reviews.didPurchase' 'reviews.doRecommend' 'reviews.id'\n",
      " 'reviews.numHelpful' 'reviews.rating' 'reviews.sourceURLs' 'reviews.text'\n",
      " 'reviews.title' 'reviews.username' 'sourceURLs']\n"
     ]
    }
   ],
   "source": [
    "data.shape\n",
    "row=data.shape[0]\n",
    "cols=data.shape[1]\n",
    "print('dim: ', data.shape)\n",
    "print(\"----------------\")\n",
    "print('total rows:', row)\n",
    "print(\"----------------\")\n",
    "print('toal columns: ', cols)\n",
    "print(\"----------------\")\n",
    "print('columns: \\n', data.columns.values)"
   ]
  },
  {
   "cell_type": "markdown",
   "metadata": {},
   "source": [
    "## data exploration"
   ]
  },
  {
   "cell_type": "code",
   "execution_count": 150,
   "metadata": {},
   "outputs": [
    {
     "name": "stdout",
     "output_type": "stream",
     "text": [
      "explore filtered review data: \n",
      "    reviews.rating                                       reviews.text  \\\n",
      "0               3  I order 3 of them and one of the item is bad q...   \n",
      "1               4  Bulk is always the less expensive way to go fo...   \n",
      "2               5  Well they are not Duracell but for the price i...   \n",
      "3               5  Seem to work as well as name brand batteries a...   \n",
      "4               5  These batteries are very long lasting the pric...   \n",
      "\n",
      "                                       reviews.title  \n",
      "0  ... 3 of them and one of the item is bad quali...  \n",
      "1  ... always the less expensive way to go for pr...  \n",
      "2  ... are not Duracell but for the price i am ha...  \n",
      "3  ... as well as name brand batteries at a much ...  \n",
      "4  ... batteries are very long lasting the price ...  \n",
      "==================================================\n",
      "explore the descriptive statistics: \n",
      " <bound method DataFrame.info of        reviews.rating                                       reviews.text  \\\n",
      "0                   3  I order 3 of them and one of the item is bad q...   \n",
      "1                   4  Bulk is always the less expensive way to go fo...   \n",
      "2                   5  Well they are not Duracell but for the price i...   \n",
      "3                   5  Seem to work as well as name brand batteries a...   \n",
      "4                   5  These batteries are very long lasting the pric...   \n",
      "...               ...                                                ...   \n",
      "28327               5  I got 2 of these for my 8 yr old twins. My 11 ...   \n",
      "28328               4  I bought this for my niece for a Christmas gif...   \n",
      "28329               5  Very nice for light internet browsing, keeping...   \n",
      "28330               5  This Tablet does absolutely everything I want!...   \n",
      "28331               4  At ninety dollars, the expectionations are low...   \n",
      "\n",
      "                                           reviews.title  \n",
      "0      ... 3 of them and one of the item is bad quali...  \n",
      "1      ... always the less expensive way to go for pr...  \n",
      "2      ... are not Duracell but for the price i am ha...  \n",
      "3      ... as well as name brand batteries at a much ...  \n",
      "4      ... batteries are very long lasting the price ...  \n",
      "...                                                  ...  \n",
      "28327                                          Xmas gift  \n",
      "28328                          yes it is a great tablet.  \n",
      "28329                       You get a lot for the price!  \n",
      "28330       You get the entire World for less than $100!  \n",
      "28331                       You get what your paying for  \n",
      "\n",
      "[28332 rows x 3 columns]>\n",
      "==================================================\n",
      "data description: \n",
      "        reviews.rating\n",
      "count    28332.000000\n",
      "mean         4.514048\n",
      "std          0.934957\n",
      "min          1.000000\n",
      "25%          4.000000\n",
      "50%          5.000000\n",
      "75%          5.000000\n",
      "max          5.000000\n",
      "explore the descriptive statistics: \n",
      " <bound method DataFrame.info of        reviews.rating                                       reviews.text  \\\n",
      "0                   3  I order 3 of them and one of the item is bad q...   \n",
      "1                   4  Bulk is always the less expensive way to go fo...   \n",
      "2                   5  Well they are not Duracell but for the price i...   \n",
      "3                   5  Seem to work as well as name brand batteries a...   \n",
      "4                   5  These batteries are very long lasting the pric...   \n",
      "...               ...                                                ...   \n",
      "28327               5  I got 2 of these for my 8 yr old twins. My 11 ...   \n",
      "28328               4  I bought this for my niece for a Christmas gif...   \n",
      "28329               5  Very nice for light internet browsing, keeping...   \n",
      "28330               5  This Tablet does absolutely everything I want!...   \n",
      "28331               4  At ninety dollars, the expectionations are low...   \n",
      "\n",
      "                                           reviews.title  \n",
      "0      ... 3 of them and one of the item is bad quali...  \n",
      "1      ... always the less expensive way to go for pr...  \n",
      "2      ... are not Duracell but for the price i am ha...  \n",
      "3      ... as well as name brand batteries at a much ...  \n",
      "4      ... batteries are very long lasting the price ...  \n",
      "...                                                  ...  \n",
      "28327                                          Xmas gift  \n",
      "28328                          yes it is a great tablet.  \n",
      "28329                       You get a lot for the price!  \n",
      "28330       You get the entire World for less than $100!  \n",
      "28331                       You get what your paying for  \n",
      "\n",
      "[28332 rows x 3 columns]>\n",
      "==================================================\n",
      "dimension info: \n",
      " (28332, 3)\n"
     ]
    }
   ],
   "source": [
    "## keep the columns that needed for performing sentiment analysis\n",
    "\n",
    "sent_data = data[['reviews.rating', 'reviews.text', 'reviews.title']]\n",
    "print('explore filtered review data: \\n', sent_data.head())\n",
    "print(\"==================================================\")\n",
    "print(\"explore the descriptive statistics: \\n\",sent_data.info)\n",
    "print(\"==================================================\")\n",
    "print(\"data description: \\n\", sent_data.describe())\n",
    "print(\"explore the descriptive statistics: \\n\",sent_data.info)\n",
    "print(\"==================================================\")\n",
    "print(\"dimension info: \\n\", sent_data.shape)"
   ]
  },
  {
   "cell_type": "code",
   "execution_count": 151,
   "metadata": {},
   "outputs": [
    {
     "name": "stdout",
     "output_type": "stream",
     "text": [
      "tot null values in dataset: \n",
      " reviews.rating    0\n",
      "reviews.text      0\n",
      "reviews.title     0\n",
      "dtype: int64\n",
      "========================================================\n",
      "tot na entries in dataset: \n",
      " reviews.rating    0\n",
      "reviews.text      0\n",
      "reviews.title     0\n",
      "dtype: int64\n",
      "========================================================\n"
     ]
    }
   ],
   "source": [
    "### sanity check\n",
    "print(\"tot null values in dataset: \\n\", sent_data.isnull().sum())\n",
    "print(\"========================================================\")\n",
    "print(\"tot na entries in dataset: \\n\", sent_data.isna().sum())\n",
    "print(\"========================================================\")"
   ]
  },
  {
   "cell_type": "code",
   "execution_count": 152,
   "metadata": {},
   "outputs": [
    {
     "name": "stdout",
     "output_type": "stream",
     "text": [
      "review rating statistics: \n",
      " 2      616\n",
      "1      965\n",
      "3     1206\n",
      "4     5648\n",
      "5    19897\n",
      "Name: reviews.rating, dtype: int64\n",
      "==================================================\n"
     ]
    },
    {
     "data": {
      "text/plain": [
       "<matplotlib.axes._subplots.AxesSubplot at 0x1ce8289e908>"
      ]
     },
     "execution_count": 152,
     "metadata": {},
     "output_type": "execute_result"
    },
    {
     "data": {
      "image/png": "[encoded data removed]",
      "text/plain": [
       "<Figure size 432x288 with 1 Axes>"
      ]
     },
     "metadata": {},
     "output_type": "display_data"
    }
   ],
   "source": [
    "### handly exploratory analysis on product review data\n",
    "sent_data=sent_data.dropna(how=\"any\")\n",
    "rev_stats = sent_data['reviews.rating'].value_counts().sort_values()\n",
    "print(\"review rating statistics: \\n\", rev_stats)\n",
    "print(\"==================================================\")\n",
    "sent_data['reviews.rating'].value_counts().sort_values().plot.pie()\n"
   ]
  },
  {
   "cell_type": "code",
   "execution_count": 153,
   "metadata": {},
   "outputs": [
    {
     "name": "stdout",
     "output_type": "stream",
     "text": [
      "<class 'pandas.core.frame.DataFrame'>\n",
      "Int64Index: 28332 entries, 0 to 28331\n",
      "Data columns (total 3 columns):\n",
      "reviews.rating    28332 non-null int64\n",
      "reviews.text      28332 non-null object\n",
      "reviews.title     28332 non-null object\n",
      "dtypes: int64(1), object(2)\n",
      "memory usage: 885.4+ KB\n",
      "data overview: \n",
      " None\n"
     ]
    }
   ],
   "source": [
    "sent_data = sent_data[sent_data[\"reviews.rating\"].notnull()]\n",
    "print(\"data overview: \\n\", sent_data.info())"
   ]
  },
  {
   "cell_type": "code",
   "execution_count": 154,
   "metadata": {},
   "outputs": [],
   "source": [
    "### label product review data (positive, or negative)\n",
    "# sent_data[\"sentiment_label\"]=sent_data[\"reviews.rating\"]>=4\n",
    "# sent_data[\"sentiment_label\"]=sent_data[\"sentiment_label\"].replace([True, False], [\"Positive\",\"Negative\"])\n",
    "# sent_data[\"sentiment_label\"].value_counts().sort_values().plot.pie()"
   ]
  },
  {
   "cell_type": "markdown",
   "metadata": {},
   "source": [
    "### data preprocessing"
   ]
  },
  {
   "cell_type": "code",
   "execution_count": 155,
   "metadata": {},
   "outputs": [
    {
     "name": "stderr",
     "output_type": "stream",
     "text": [
      "[nltk_data] Downloading package punkt to\n",
      "[nltk_data]     C:\\Users\\jvret\\AppData\\Roaming\\nltk_data...\n",
      "[nltk_data]   Package punkt is already up-to-date!\n",
      "[nltk_data] Downloading package stopwords to\n",
      "[nltk_data]     C:\\Users\\jvret\\AppData\\Roaming\\nltk_data...\n",
      "[nltk_data]   Package stopwords is already up-to-date!\n"
     ]
    },
    {
     "data": {
      "text/plain": [
       "True"
      ]
     },
     "execution_count": 155,
     "metadata": {},
     "output_type": "execute_result"
    }
   ],
   "source": [
    "import nltk\n",
    "nltk.download('punkt')\n",
    "nltk.download('stopwords')"
   ]
  },
  {
   "cell_type": "markdown",
   "metadata": {},
   "source": [
    "### basic sentiment analysis"
   ]
  },
  {
   "cell_type": "code",
   "execution_count": 156,
   "metadata": {},
   "outputs": [
    {
     "name": "stdout",
     "output_type": "stream",
     "text": [
      "negative english words: \n",
      "         words\n",
      "0     2-faced\n",
      "1     2-faces\n",
      "2    abnormal\n",
      "3     abolish\n",
      "4  abominable\n",
      "=====================================\n",
      "positive english words: \n",
      "        words\n",
      "0         a+\n",
      "1     abound\n",
      "2    abounds\n",
      "3  abundance\n",
      "4   abundant\n"
     ]
    }
   ],
   "source": [
    "## helper function to determine sentiment for given review text\n",
    "## to do so, we can use pre-generated positive / negative english words\n",
    "neg_words=pd.read_csv(\"amazon_prod_dataset/negative.csv\")\n",
    "pos_words=pd.read_csv(\"amazon_prod_dataset/pos.csv\")\n",
    "print(\"negative english words: \\n\", neg_words.head())\n",
    "print(\"=====================================\")\n",
    "print(\"positive english words: \\n\", pos_words.head())"
   ]
  },
  {
   "cell_type": "code",
   "execution_count": 157,
   "metadata": {},
   "outputs": [],
   "source": [
    "# txt=sent_data[\"reviews.text\"][0]\n",
    "# tokens= word_tokenize(txt)\n",
    "# print('text,,\\n', txt)\n",
    "# print(\"=============\")\n",
    "# print(\"tokens:\\n\", tokens)\n",
    "# print(\"=============\")\n",
    "# tkens=[''.join(x for x in y if x not in string.punctuation) for y in tokens]\n",
    "# print(\"curious: \\n\", tkens)\n",
    "# print(\"=============\")\n",
    "# non_stopwords=[x for x in tkens if x not in stopwords.words(\"english\")]\n",
    "# print(\"non stopwords: \\n\", non_stopwords) "
   ]
  },
  {
   "cell_type": "code",
   "execution_count": 158,
   "metadata": {},
   "outputs": [],
   "source": [
    "### helper function to decide sentiment factor in given text\n",
    "def assign_sentiment(sent):\n",
    "    neg_cnt=0\n",
    "    pos_cnt=0\n",
    "    neu_cnt=0\n",
    "    tokenized_sent=word_tokenize(sent)\n",
    "    tokenized_words=[''.join(x for x in y if x not in string.punctuation) for y in tokenized_sent]\n",
    "    non_stopwords=[x for x in tokenized_words if x not in stopwords.words(\"english\")]\n",
    "    for word in non_stopwords:\n",
    "        if word in neg_words:\n",
    "            neg_cnt+=1\n",
    "        elif word in pos_words:\n",
    "            pos_cnt+=1\n",
    "        else:\n",
    "            neu_cnt+=1\n",
    "    if pos_cnt>neg_cnt:\n",
    "        return +1\n",
    "    elif neg_cnt>pos_cnt:\n",
    "        return -1\n",
    "    else:\n",
    "        return 0"
   ]
  },
  {
   "cell_type": "code",
   "execution_count": 159,
   "metadata": {},
   "outputs": [],
   "source": [
    "### print out positive, negative, neutral reviews from original product review data\n",
    "pos_reviews=0\n",
    "neg_reviews=0\n",
    "neu_reviews=0\n",
    "for review in sent_data['reviews.text']:\n",
    "    cnt=assign_sentiment(review)\n",
    "    if cnt==1:\n",
    "        pos_reviews+=1\n",
    "    elif cnt==-1:\n",
    "        neg_reviews+=1\n",
    "    else:\n",
    "        neu_reviews+=1"
   ]
  },
  {
   "cell_type": "code",
   "execution_count": 160,
   "metadata": {},
   "outputs": [
    {
     "data": {
      "text/plain": [
       "([<matplotlib.patches.Wedge at 0x1ce82980e08>,\n",
       "  <matplotlib.patches.Wedge at 0x1ce829959c8>,\n",
       "  <matplotlib.patches.Wedge at 0x1ce8299d608>],\n",
       " [Text(1.1000000000000003, 1.905255888325765, 'Positive'),\n",
       "  Text(1.1946952917203477, 2.0815146312099833, 'Negative'),\n",
       "  Text(-1.1946953724151093, -2.081514584894837, 'Neutral')],\n",
       " [Text(0.6000000000000001, 1.0392304845413263, ' 0.0%'),\n",
       "  Text(0.6969055868368695, 1.2142168682058236, ' 0.1%'),\n",
       "  Text(-0.6969056339088135, -1.2142168411886547, '99.9%')])"
      ]
     },
     "execution_count": 160,
     "metadata": {},
     "output_type": "execute_result"
    },
    {
     "data": {
      "image/png": "[encoded data removed]",
      "text/plain": [
       "<Figure size 432x288 with 1 Axes>"
      ]
     },
     "metadata": {},
     "output_type": "display_data"
    }
   ],
   "source": [
    "### plot piechart for the sentiment output\n",
    "\n",
    "plt.pie([pos_reviews, neg_reviews, neu_reviews], labels=[\"Positive\", \"Negative\", \"Neutral\"],\n",
    "       explode=(0, 0.2, 0.2), autopct='%4.1f%%', shadow=True, startangle=60, radius=2, colors=colors)"
   ]
  },
  {
   "cell_type": "markdown",
   "metadata": {},
   "source": [
    "### Remark\n",
    "\n",
    "from above plot we can see that porportion of positive, neutral and negative reviews are quite unusal. To get better result, I intend to use feature engineering to train respective machine learning classifier to predict unlabled review data."
   ]
  },
  {
   "cell_type": "code",
   "execution_count": 161,
   "metadata": {},
   "outputs": [
    {
     "name": "stdout",
     "output_type": "stream",
     "text": [
      "==========================================================\n"
     ]
    },
    {
     "data": {
      "text/plain": [
       "<matplotlib.axes._subplots.AxesSubplot at 0x1ce829b6488>"
      ]
     },
     "execution_count": 161,
     "metadata": {},
     "output_type": "execute_result"
    },
    {
     "data": {
      "image/png": "[encoded data removed]",
      "text/plain": [
       "<Figure size 432x288 with 1 Axes>"
      ]
     },
     "metadata": {},
     "output_type": "display_data"
    }
   ],
   "source": [
    "## another way of assigning sentiment label to reviews\n",
    "\n",
    "def sentiment_labeler(score):\n",
    "    if (score==5) or (score==4):\n",
    "        return \"Positive\"\n",
    "    elif (score==3):\n",
    "        return \"Neutral\"\n",
    "    else:\n",
    "        return \"Negative\"\n",
    "    \n",
    "sent_data[\"sentiment_label\"]=sent_data[\"reviews.rating\"].apply(sentiment_labeler)\n",
    "print(\"==========================================================\")\n",
    "sent_data[\"sentiment_label\"].value_counts().sort_values().plot.pie()"
   ]
  },
  {
   "cell_type": "code",
   "execution_count": 162,
   "metadata": {},
   "outputs": [
    {
     "name": "stdout",
     "output_type": "stream",
     "text": [
      "====================================\n",
      "size of splitted train data: \n",
      " (22665, 4)\n",
      "====================================\n",
      "size of splitted test data: \n",
      " (5667, 4)\n"
     ]
    }
   ],
   "source": [
    "### data preparing\n",
    "\n",
    "from sklearn.model_selection import StratifiedShuffleSplit\n",
    "\n",
    "split_data=StratifiedShuffleSplit(n_splits=5, test_size=0.2)\n",
    "for tr_indx, ts_indx in split_data.split(sent_data, sent_data[\"reviews.rating\"]):\n",
    "    train_data=sent_data.reindex(tr_indx)\n",
    "    test_data=sent_data.reindex(ts_indx)\n",
    "\n",
    "print(\"====================================\")\n",
    "print(\"size of splitted train data: \\n\", train_data.shape)\n",
    "print(\"====================================\")\n",
    "print(\"size of splitted test data: \\n\", test_data.shape)"
   ]
  },
  {
   "cell_type": "code",
   "execution_count": 163,
   "metadata": {},
   "outputs": [
    {
     "name": "stdout",
     "output_type": "stream",
     "text": [
      "sanity check for porportion of diff scale rating: \n",
      " 5    0.702272\n",
      "4    0.199338\n",
      "3    0.042577\n",
      "1    0.034061\n",
      "2    0.021752\n",
      "Name: reviews.rating, dtype: float64\n",
      "=================================================\n",
      "sanity check for porportion of diff scale rating in training data: \n",
      " 5    0.702272\n",
      "4    0.199338\n",
      "3    0.042577\n",
      "1    0.034061\n",
      "2    0.021752\n",
      "Name: reviews.rating, dtype: float64\n"
     ]
    }
   ],
   "source": [
    "## sanity check\n",
    "tr_data_stats= train_data[\"reviews.rating\"].value_counts()/len(train_data)\n",
    "\n",
    "print(\"sanity check for porportion of diff scale rating: \\n\", tr_data_stats)\n",
    "\n",
    "print(\"=================================================\")\n",
    "ts_data_stats= test_data[\"reviews.rating\"].value_counts()/len(test_data)\n",
    "\n",
    "print(\"sanity check for porportion of diff scale rating in training data: \\n\", tr_data_stats)"
   ]
  },
  {
   "cell_type": "markdown",
   "metadata": {},
   "source": [
    "#### prepare data"
   ]
  },
  {
   "cell_type": "code",
   "execution_count": 185,
   "metadata": {},
   "outputs": [
    {
     "name": "stdout",
     "output_type": "stream",
     "text": [
      "dim of training data:\n",
      " (22665,)\n",
      "================================\n",
      "dim of testing data:\n",
      " (5667,)\n"
     ]
    }
   ],
   "source": [
    "X_train=train_data['reviews.text']\n",
    "y_train=train_data[\"sentiment_label\"]\n",
    "X_test=test_data[\"reviews.text\"]\n",
    "y_test=test_data[\"sentiment_label\"]\n",
    "print(\"dim of training data:\\n\", X_train.shape)\n",
    "print(\"================================\")\n",
    "print(\"dim of testing data:\\n\", X_test.shape)"
   ]
  },
  {
   "cell_type": "markdown",
   "metadata": {},
   "source": [
    "### Feature Engineering"
   ]
  },
  {
   "cell_type": "code",
   "execution_count": 205,
   "metadata": {},
   "outputs": [
    {
     "name": "stdout",
     "output_type": "stream",
     "text": [
      "dim of bag of words: \n",
      " (22665, 9625)\n",
      "===========================================\n",
      "===========================================\n",
      "tfidf for X_train   (0, 624)\t0.13245323570650439\n",
      "  (0, 673)\t0.13245323570650439\n",
      "  (0, 827)\t0.39735970711951313\n",
      "  (0, 1058)\t0.13245323570650439\n",
      "  (0, 1452)\t0.13245323570650439\n",
      "  (0, 1641)\t0.13245323570650439\n",
      "  (0, 2497)\t0.13245323570650439\n",
      "  (0, 2660)\t0.13245323570650439\n",
      "  (0, 2818)\t0.13245323570650439\n",
      "  (0, 2862)\t0.13245323570650439\n",
      "  (0, 3292)\t0.13245323570650439\n",
      "  (0, 3304)\t0.13245323570650439\n",
      "  (0, 3344)\t0.13245323570650439\n",
      "  (0, 3556)\t0.13245323570650439\n",
      "  (0, 3753)\t0.13245323570650439\n",
      "  (0, 3854)\t0.13245323570650439\n",
      "  (0, 4036)\t0.13245323570650439\n",
      "  (0, 4667)\t0.13245323570650439\n",
      "  (0, 4904)\t0.13245323570650439\n",
      "  (0, 5122)\t0.13245323570650439\n",
      "  (0, 5544)\t0.13245323570650439\n",
      "  (0, 5806)\t0.13245323570650439\n",
      "  (0, 5883)\t0.13245323570650439\n",
      "  (0, 6076)\t0.13245323570650439\n",
      "  (0, 6709)\t0.13245323570650439\n",
      "  :\t:\n",
      "  (22662, 9573)\t0.13483997249264842\n",
      "  (22663, 3132)\t0.25\n",
      "  (22663, 3468)\t0.25\n",
      "  (22663, 3556)\t0.25\n",
      "  (22663, 4626)\t0.25\n",
      "  (22663, 4667)\t0.25\n",
      "  (22663, 5631)\t0.25\n",
      "  (22663, 6214)\t0.25\n",
      "  (22663, 6720)\t0.25\n",
      "  (22663, 7727)\t0.25\n",
      "  (22663, 8362)\t0.25\n",
      "  (22663, 8383)\t0.25\n",
      "  (22663, 8507)\t0.5\n",
      "  (22663, 8657)\t0.25\n",
      "  (22664, 1670)\t0.22360679774997896\n",
      "  (22664, 3556)\t0.22360679774997896\n",
      "  (22664, 3792)\t0.22360679774997896\n",
      "  (22664, 3947)\t0.22360679774997896\n",
      "  (22664, 4070)\t0.22360679774997896\n",
      "  (22664, 4667)\t0.4472135954999579\n",
      "  (22664, 5631)\t0.4472135954999579\n",
      "  (22664, 6181)\t0.22360679774997896\n",
      "  (22664, 6542)\t0.22360679774997896\n",
      "  (22664, 7879)\t0.4472135954999579\n",
      "  (22664, 8360)\t0.22360679774997896\n"
     ]
    }
   ],
   "source": [
    "## feature 1: bag of words\n",
    "from  sklearn.feature_extraction.text import CountVectorizer\n",
    "from sklearn.feature_extraction.text import TfidfTransformer\n",
    "\n",
    "X_train=X_train.fillna(' ')\n",
    "X_test=X_test.fillna(' ')\n",
    "y_train=y_train.fillna(' ')\n",
    "y_test=y_test.fillna(' ')\n",
    "\n",
    "X_train_cnts=CountVectorizer().fit_transform(X_train)\n",
    "print(\"dim of bag of words: \\n\", X_train_cnts.shape)\n",
    "print(\"===========================================\")\n",
    "print(\"===========================================\")\n",
    "\n",
    "Tfidf=TfidfTransformer(use_idf=False)\n",
    "X_train_tfidf=Tfidf.fit_transform(X_train_cnts)\n",
    "print(\"tfidf for X_train\", X_train_tfidf)"
   ]
  },
  {
   "cell_type": "code",
   "execution_count": null,
   "metadata": {},
   "outputs": [],
   "source": [
    "### build machine learning models from extracted bag of words features\n",
    "\n",
    "from sklearn.naive_bayes import MultinomialNB\n",
    "from sklearn.metrics import classification_report\n",
    "from sklearn.linear_model import LogisticRegression\n",
    "from sklearn.naive_bayes import MultinomialNB\n",
    "from sklearn.ensemble import RandomForestClassifier\n",
    "from sklearn.svm import LinearSVC\n",
    "from sklearn.tree import DecisionTreeClassifier\n",
    "from sklearn import linear_model\n",
    "from sklearn.pipeline import Pipeline\n",
    "from sklearn import metrics"
   ]
  },
  {
   "cell_type": "code",
   "execution_count": 215,
   "metadata": {},
   "outputs": [
    {
     "name": "stderr",
     "output_type": "stream",
     "text": [
      "c:\\users\\jvret\\appdata\\local\\programs\\python\\python37\\lib\\site-packages\\sklearn\\metrics\\classification.py:1437: UndefinedMetricWarning: Precision and F-score are ill-defined and being set to 0.0 in labels with no predicted samples.\n",
      "  'precision', 'predicted', average, warn_for)\n"
     ]
    },
    {
     "name": "stdout",
     "output_type": "stream",
     "text": [
      "accuracy metrics for training naive bayes classifier:\n",
      "               precision    recall  f1-score   support\n",
      "\n",
      "           1       0.80      0.01      0.02       316\n",
      "           0       0.00      0.00      0.00       241\n",
      "          -1       0.90      1.00      0.95      5110\n",
      "\n",
      "    accuracy                           0.90      5667\n",
      "   macro avg       0.57      0.34      0.32      5667\n",
      "weighted avg       0.86      0.90      0.86      5667\n",
      "\n",
      "======================================================================================\n"
     ]
    },
    {
     "name": "stderr",
     "output_type": "stream",
     "text": [
      "c:\\users\\jvret\\appdata\\local\\programs\\python\\python37\\lib\\site-packages\\sklearn\\linear_model\\logistic.py:432: FutureWarning: Default solver will be changed to 'lbfgs' in 0.22. Specify a solver to silence this warning.\n",
      "  FutureWarning)\n",
      "c:\\users\\jvret\\appdata\\local\\programs\\python\\python37\\lib\\site-packages\\sklearn\\linear_model\\logistic.py:469: FutureWarning: Default multi_class will be changed to 'auto' in 0.22. Specify the multi_class option to silence this warning.\n",
      "  \"this warning.\", FutureWarning)\n"
     ]
    },
    {
     "name": "stdout",
     "output_type": "stream",
     "text": [
      "accuracy metrics for logistic regression classifier:\n",
      "               precision    recall  f1-score   support\n",
      "\n",
      "           1       0.81      0.47      0.59       316\n",
      "           0       0.64      0.06      0.11       241\n",
      "          -1       0.93      1.00      0.96      5110\n",
      "\n",
      "    accuracy                           0.93      5667\n",
      "   macro avg       0.79      0.51      0.55      5667\n",
      "weighted avg       0.91      0.93      0.91      5667\n",
      "\n",
      "======================================================================================\n",
      "accuracy metrics for SGD classifier:\n",
      "               precision    recall  f1-score   support\n",
      "\n",
      "           1       0.79      0.49      0.61       316\n",
      "           0       1.00      0.01      0.02       241\n",
      "          -1       0.93      1.00      0.96      5110\n",
      "\n",
      "    accuracy                           0.93      5667\n",
      "   macro avg       0.91      0.50      0.53      5667\n",
      "weighted avg       0.93      0.93      0.90      5667\n",
      "\n"
     ]
    }
   ],
   "source": [
    "## use multinomial NB classifier\n",
    "clf_multiNB_pipe = Pipeline([(\"vect\", CountVectorizer()), (\"tfidf\", TfidfTransformer()), (\"clf_nominalNB\", MultinomialNB())])\n",
    "clf_multiNB_pipe.fit(X_train,y_train)\n",
    "predicted_nb = clf_multiNB_pipe.predict(X_test)\n",
    "print(\"accuracy metrics for training naive bayes classifier:\\n\",metrics.classification_report(y_test, predicted_nb, target_names = ['1','0','-1']))\n",
    "print(\"======================================================================================\")\n",
    "\n",
    "# ## use logistic regression\n",
    "LR = LogisticRegression()\n",
    "# text_pipe_LR = Pipeline([('tfidf', TfidfVectorizer()), ('LR', LR)])\n",
    "clf_logitReg_pipe = Pipeline([(\"vect\", CountVectorizer()), (\"tfidf\", TfidfTransformer()), (\"clf_nominalNB\", LogisticRegression())])\n",
    "clf_logitReg_pipe.fit(X_train,y_train)\n",
    "predicted_lr = clf_logitReg_pipe.predict(X_test)\n",
    "print(\"accuracy metrics for logistic regression classifier:\\n\",metrics.classification_report(y_test, predicted_lr, target_names = ['1','0','-1']))\n",
    "print(\"======================================================================================\")\n",
    "# ## use SGD classifier\n",
    "sgd_clf = linear_model.SGDClassifier(max_iter=1000)\n",
    "clf_sgd_pipe = Pipeline([(\"vect\", CountVectorizer()), (\"tfidf\", TfidfTransformer()), (\"clf_nominalNB\", sgd_clf)])\n",
    "clf_sgd_pipe.fit(X_train,y_train)\n",
    "predicted_sgd = clf_sgd_pipe.predict(X_test)\n",
    "print(\"accuracy metrics for SGD classifier:\\n\",metrics.classification_report(y_test, predicted_sgd, target_names = ['1','0','-1']))\n",
    "\n",
    "print(\"======================================================================================\")\n",
    "# ## use SVC classifier\n",
    "clf_svc_pipe = Pipeline([(\"vect\", CountVectorizer()), (\"tfidf\", TfidfTransformer()), (\"clf_nominalNB\", sgd_clf)])\n",
    "clf_sgd_pipe.fit(X_train,y_train)\n",
    "predicted_sgd = clf_sgd_pipe.predict(X_test)\n",
    "print(\"accuracy metrics for SGD classifier:\\n\",metrics.classification_report(y_test, predicted_sgd, target_names = ['1','0','-1']))"
   ]
  },
  {
   "cell_type": "code",
   "execution_count": null,
   "metadata": {},
   "outputs": [],
   "source": []
  }
 ],
 "metadata": {
  "kernelspec": {
   "display_name": "Python 3",
   "language": "python",
   "name": "python3"
  },
  "language_info": {
   "codemirror_mode": {
    "name": "ipython",
    "version": 3
   },
   "file_extension": ".py",
   "mimetype": "text/x-python",
   "name": "python",
   "nbconvert_exporter": "python",
   "pygments_lexer": "ipython3",
   "version": "3.7.4"
  }
 },
 "nbformat": 4,
 "nbformat_minor": 2
}
