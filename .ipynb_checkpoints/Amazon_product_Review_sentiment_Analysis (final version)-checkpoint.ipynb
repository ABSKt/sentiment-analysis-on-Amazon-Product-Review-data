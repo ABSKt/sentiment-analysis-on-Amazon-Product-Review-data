{
 "cells": [
  {
   "cell_type": "code",
   "execution_count": null,
   "metadata": {},
   "outputs": [],
   "source": [
    "### import pandas as pd\n",
    "import string\n",
    "import pandas as pd\n",
    "from nltk.corpus import stopwords\n",
    "from nltk.tokenize import word_tokenize\n",
    "import matplotlib.pyplot as plt\n",
    "\n",
    "from sklearn.feature_extraction.text import CountVectorizer\n",
    "from sklearn.model_selection import train_test_split\n",
    "from sklearn.metrics import classification_report\n",
    "from sklearn.linear_model import LogisticRegression\n",
    "from sklearn.naive_bayes import MultinomialNB\n",
    "from sklearn.ensemble import RandomForestClassifier\n",
    "from sklearn.model_selection import KFold\n",
    "from sklearn import linear_model\n",
    "from sklearn import metrics\n",
    "from sklearn.tree import DecisionTreeClassifier\n",
    "from sklearn.model_selection import cross_val_score\n",
    "from sklearn.metrics import accuracy_score\n",
    "\n",
    "from sklearn.svm import LinearSVC\n",
    "from sklearn.tree import DecisionTreeClassifier\n",
    "from sklearn import linear_model\n",
    "from sklearn.pipeline import Pipeline\n",
    "from sklearn import metrics"
   ]
  },
  {
   "cell_type": "code",
   "execution_count": null,
   "metadata": {},
   "outputs": [],
   "source": [
    "data=pd.read_csv(\"Datafiniti_Amazon_Consumer_Reviews_of_Amazon_Products_May19.csv\")\n",
    "data.head(3)"
   ]
  },
  {
   "cell_type": "code",
   "execution_count": null,
   "metadata": {},
   "outputs": [],
   "source": [
    "sentiment_data = data[['reviews.rating', 'reviews.text', 'reviews.title']]\n",
    "sentiment_data.head()"
   ]
  },
  {
   "cell_type": "code",
   "execution_count": null,
   "metadata": {},
   "outputs": [],
   "source": [
    "## prepare data\n",
    "def sentiment_labeler(score):\n",
    "    if (score==5) or (score==4):\n",
    "        return \"Positive\"\n",
    "    elif (score==3):\n",
    "        return \"Neutral\"\n",
    "    else:\n",
    "        return \"Negative\"\n",
    "    \n",
    "sentiment_data[\"sentiment_label\"]=sentiment_data[\"reviews.rating\"].apply(sentiment_labeler)\n",
    "sentiment_data.head()"
   ]
  },
  {
   "cell_type": "markdown",
   "metadata": {},
   "source": [
    "### prepare train, test data\n"
   ]
  },
  {
   "cell_type": "code",
   "execution_count": null,
   "metadata": {},
   "outputs": [],
   "source": [
    "from sklearn.model_selection import StratifiedShuffleSplit\n",
    "\n",
    "split_data=StratifiedShuffleSplit(n_splits=5, test_size=0.2)\n",
    "for tr_indx, ts_indx in split_data.split(sentiment_data, sentiment_data[\"reviews.rating\"]):\n",
    "    train_data=sentiment_data.reindex(tr_indx)\n",
    "    test_data=sentiment_data.reindex(ts_indx)"
   ]
  },
  {
   "cell_type": "code",
   "execution_count": null,
   "metadata": {},
   "outputs": [],
   "source": [
    "## set up stanfordcorenlp"
   ]
  },
  {
   "cell_type": "code",
   "execution_count": null,
   "metadata": {},
   "outputs": [],
   "source": [
    "from pycorenlp import StanfordCoreNLP\n",
    "from sklearn.feature_extraction.text import CountVectorizer\n",
    "from sklearn.feature_extraction.text import TfidfTransformer\n",
    "\n",
    "import numpy as np\n",
    "import string"
   ]
  },
  {
   "cell_type": "code",
   "execution_count": null,
   "metadata": {},
   "outputs": [],
   "source": [
    "## helper function to extract pos tag features\n",
    "\n",
    "def extract_POS(statements):\n",
    "    print('Extracting POS Tags')\n",
    "    pos_tags = POS_tagging(statements,return_word_tag_pairs=False)\n",
    "    bigrams_pos = POS_groupping(pos_tags, grams=2)\n",
    "    trigrams_pos =POS_groupping(pos_tags, grams=3)\n",
    "    print('Finished')\n",
    "    return pos_tags,bigrams_pos,trigrams_pos\n",
    "\n",
    "##\n",
    "def POS_tagging(statements, return_word_tag_pairs = False):\n",
    "    core_nlp = StanfordCoreNLP('http://localhost:9000')\n",
    "    print(\"NLP_Task ready to use.\")\n",
    "    POS_tags = list()\n",
    "    for statement in statements:\n",
    "        statement_tags = list()\n",
    "        annotations = core_nlp.annotate(statement, properties={\n",
    "            'annotators': 'tokenize,pos',\n",
    "            'outputFormat': 'json'\n",
    "            })\n",
    "        for output in annotations['sentences']:\n",
    "            statement_tags.append('<s>')\n",
    "            previous = ''\n",
    "            for token in output['tokens']:\n",
    "                if return_word_tag_pairs:\n",
    "                    statement_tags.append(token['word']+'/'+token['pos'])\n",
    "                else:\n",
    "                    statement_tags.append(token['pos'])\n",
    "\n",
    "        POS_tags.append(statement_tags)\n",
    "    return POS_tags\n",
    "\n",
    "## \n",
    "def POS_groupping(sentences_pos,grams=1):\n",
    "    result = list()\n",
    "    for sentence_tags in sentences_pos:\n",
    "        tag_group = list()\n",
    "        for index, each_tag in enumerate(sentence_tags):\n",
    "            if index < len(sentence_tags)-grams and len(sentence_tags)>=grams:\n",
    "                format_str = str()\n",
    "                for i in range(0,grams):\n",
    "                    format_str += sentence_tags[index+i]\n",
    "                    if i<grams-1:\n",
    "                        format_str += '_'\n",
    "                tag_group.append(format_str)\n",
    "        result.append(tag_group)\n",
    "    return result\n",
    "\n",
    "##\n",
    "def RemoveConsecutiveTags(list_to_remove, postags,ignore_punctuation=False):\n",
    "    withoutConsecutiveTags = list()\n",
    "    for each_tag in postags:\n",
    "        removed = list()\n",
    "        previous = ''\n",
    "        for tt in each_tag:\n",
    "            if tt != previous:\n",
    "                if not ignore_punctuation:\n",
    "                    removed.append(tt)\n",
    "                elif tt not in string.punctuation:\n",
    "                    removed.append(tt)\n",
    "                previous = tt\n",
    "            elif tt not in list_to_remove:\n",
    "                removed.append(tt)\n",
    "                previous = tt\n",
    "        withoutConsecutiveTags.append(removed)\n",
    "    return withoutConsecutiveTags"
   ]
  },
  {
   "cell_type": "code",
   "execution_count": null,
   "metadata": {},
   "outputs": [],
   "source": [
    "## extracting pos-tag features\n",
    "unigram_pos_tr, bigrams_pos_tr, trigram_pos_tr = extract_POS(statements=train_data['reviews.text'])\n",
    "unigram_pos_ts, bigrams_pos_ts, trigram_pos_ts = extract_POS(statements=test_data['reviews.text'])"
   ]
  },
  {
   "cell_type": "code",
   "execution_count": null,
   "metadata": {},
   "outputs": [],
   "source": [
    "## remove duplicated pos tag\n",
    "\n",
    "# For review data\n",
    "list_to_remove = ['NNP','CD']\n",
    "\n",
    "removed_pos_tr =RemoveConsecutiveTags(list_to_remove,unigram_pos_tr)\n",
    "removed_pos_bigrams_tr = POS_groupping(grams=2,sentences_pos=removed_pos_tr)\n",
    "removed_pos_trigrams_tr = POS_groupping(grams=3,sentences_pos=removed_pos_tr)\n",
    "\n",
    "removed_pos_ts =RemoveConsecutiveTags(list_to_remove,unigram_pos_ts)\n",
    "removed_pos_bigrams_ts = POS_groupping(grams=2,sentences_pos=removed_pos_ts)\n",
    "removed_pos_trigrams_ts = POS_groupping(grams=3,sentences_pos=removed_pos_ts)"
   ]
  },
  {
   "cell_type": "code",
   "execution_count": null,
   "metadata": {},
   "outputs": [],
   "source": [
    "sentiment_feats= pd.DataFrame()\n",
    "sentiment_feats['reviews'] = sentiment_data['reviews.text']\n",
    "\n",
    "list_to_remove = ['NNP','CD']\n",
    "sentiment_feats['pos_unig_tr'] = [\" \".join(x).replace('<s>','').replace('$','dollar').strip() for x in removed_pos_tr]\n",
    "# sentiment_feats['pos_big_tr'] = [\" \".join(x).replace('$','dollar').strip() for x in removed_pos_bigrams_tr]\n",
    "# sentiment_feats['pos_trig_tr'] = [\" \".join(x).replace('$','dollar').strip() for x in removed_pos_trigrams_tr]\n",
    "# sentiment_feats.head()"
   ]
  },
  {
   "cell_type": "code",
   "execution_count": null,
   "metadata": {},
   "outputs": [],
   "source": [
    "###\n",
    "def GetFeaturesFromPOS(training_data, user_defined_vocabulary=None):\n",
    "    user_defined_vocabulary = [x.lower().replace('$','dollar') for x in user_defined_vocabulary]\n",
    "\n",
    "    # making string of the data\n",
    "    training_str = [\" \".join(x) for x in training_data]\n",
    "\n",
    "    #replace $ by dollar\n",
    "    training_str = [x.replace('$', 'dollar').replace('<s>','sos') for x in training_str]\n",
    "\n",
    "    # features using binary iformation\n",
    "    oneHotVectorizer = CountVectorizer(vocabulary=user_defined_vocabulary,binary=True)\n",
    "    tr_onehot = oneHotVectorizer.fit_transform(training_str).toarray()\n",
    "    print(oneHotVectorizer.vocabulary_)\n",
    "\n",
    "    # features using no-binary information (counting)\n",
    "    countVectorizer = CountVectorizer(vocabulary=user_defined_vocabulary,binary=True)\n",
    "    tr_count = countVectorizer.fit_transform(training_str).toarray()\n",
    "\n",
    "    # features using tf-idf vectors\n",
    "    tfIdfVectorizer = TfidfTransformer(norm='l2', use_idf=True, smooth_idf=True, sublinear_tf=False)\n",
    "    tr_tfidf = tfIdfVectorizer.fit_transform(tr_count)\n",
    "\n",
    "    return tr_onehot, tr_count, tr_tfidf"
   ]
  },
  {
   "cell_type": "code",
   "execution_count": null,
   "metadata": {},
   "outputs": [],
   "source": [
    "pos_relevant_unigrams =  ['VBZ', 'DT', 'NNPS', 'VBP', 'JJ', 'IN', 'WRB', 'VBD', 'PRP', 'RP', 'WDT', 'VB', 'NNP', 'VBG', 'PRP$', 'VBN', 'CD', 'RB', 'WP', 'JJS', 'JJR', 'EX', 'RBS', 'FW', 'LS'] \n",
    "amazonRev_onehot_unigram_tr, amazonRev_count_unigram_tr, amazonRev_tfidf_unigram_tr = GetFeaturesFromPOS(training_data=removed_pos_tr, user_defined_vocabulary=pos_relevant_unigrams)\n",
    "\n",
    "pos_relevant_bigrams = ['NNPS_VBP', 'VB_NNP', 'IN_DT', 'VB_JJ', 'JJ_CD', 'CD_NNS', 'DT_JJS', 'JJR_IN', 'IN_CD', 'CC_IN', 'RB_VBD', 'CD_NN', 'NN_TO', 'JJR_JJ', 'VB_CD'] \n",
    "amazonRev_onehot_bigram_tr, amazonRev_count_bigram_tr, amazonRev_tfidf_bigram_tr = GetFeaturesFromPOS(training_data=removed_pos_bigrams_tr, user_defined_vocabulary=pos_relevant_bigrams)\n",
    "\n",
    "pos_relevant_trigrams = ['VBD_VBN_IN', 'IN_DT_JJ', 'CD_NN_IN', 'IN_CD_NNS', 'IN_DT_NN', 'DT_JJ_CD', 'MD_VB_IN', 'JJS_JJ_NN', 'CC_JJ_NNS', 'JJ_NNS_VBP', 'VBP_CD_NN', 'sos_JJR_IN', 'IN_DT_NNS','JJ_NN_MD']\n",
    "amazonRev_onehot_trigram_tr, amazonRev_count_trigram_tr, amazonRev_tfidf_trigram_tr = GetFeaturesFromPOS(training_data=removed_pos_trigrams_tr, user_defined_vocabulary=pos_relevant_trigrams)"
   ]
  },
  {
   "cell_type": "code",
   "execution_count": null,
   "metadata": {},
   "outputs": [],
   "source": [
    "sum(amazonRev_onehot_unigram)"
   ]
  },
  {
   "cell_type": "code",
   "execution_count": null,
   "metadata": {},
   "outputs": [],
   "source": [
    "sum(amazonRev_onehot_bigram)"
   ]
  },
  {
   "cell_type": "code",
   "execution_count": null,
   "metadata": {},
   "outputs": [],
   "source": [
    "sum(amazonRev_onehot_trigram)"
   ]
  },
  {
   "cell_type": "code",
   "execution_count": null,
   "metadata": {},
   "outputs": [],
   "source": [
    "sentiment_feats['pos_unigrams_1hot_tr'] =  [str(x) for x in amazonRev_onehot_unigram_tr]\n",
    "sentiment_feats['pos_bigrams_1hot_tr'] = [str(x) for x in amazonRev_onehot_bigram_tr]\n",
    "sentiment_feats['pos_trigrams_1hot_tr'] = [str(x) for x in amazonRev_onehot_trigram_tr]\n",
    "\n",
    "sentiment_feats['pos_unigrams_count_tr'] =  [str(x) for x in amazonRev_count_unigram_tr]\n",
    "sentiment_feats['pos_bigrams_count_tr'] = [str(x) for x in amazonRev_count_bigram_tr]\n",
    "sentiment_feats['pos_trigrams_count_tr'] = [str(x) for x in amazonRev_count_trigram_tr]\n",
    "\n",
    "sentiment_feats['pos_unigrams_tfidf_tr'] =  [str(x) for x in amazonRev_tfidf_unigram_tr]\n",
    "sentiment_feats['pos_bigrams_tfidf_tr'] = [str(x) for x in amazonRev_tfidf_bigram_tr]\n",
    "sentiment_feats['pos_trigrams_tfidf_tr'] = [str(x) for x in amazonRev_tfidf_trigram_tr]\n",
    "\n",
    "sentiment_feats.head()"
   ]
  },
  {
   "cell_type": "code",
   "execution_count": null,
   "metadata": {},
   "outputs": [],
   "source": [
    "### train ML classifier"
   ]
  },
  {
   "cell_type": "code",
   "execution_count": null,
   "metadata": {},
   "outputs": [],
   "source": [
    "## use different features\n",
    "\n",
    "unigram_pos_str = [\" \".join(x) for x in unigram_pos]\n",
    "bigram_pos_str = [\" \".join(x) for x in bigrams_pos]\n",
    "trigram_pos_str = [\" \".join(x) for x in trigram_pos]\n",
    "\n",
    "cv_uni = CountVectorizer()\n",
    "pos_uni_feats = cv_uni.fit_transform(unigram_pos_str).toarray()"
   ]
  },
  {
   "cell_type": "markdown",
   "metadata": {},
   "source": [
    "## Sentiment Analysis with TextBlob"
   ]
  },
  {
   "cell_type": "code",
   "execution_count": null,
   "metadata": {},
   "outputs": [],
   "source": [
    "from textblob import TextBlob\n",
    "from textblob import Blobber\n",
    "from textblob.sentiments import NaiveBayesAnalyzer\n",
    "from textblob.np_extractors import ConllExtractor\n",
    "\n",
    "import nltk\n",
    "nltk.download('movie_reviews')\n",
    "nltk.download('conll2000')"
   ]
  },
  {
   "cell_type": "code",
   "execution_count": null,
   "metadata": {},
   "outputs": [],
   "source": [
    "def extractTextBlobFeatures(corpus):\n",
    "    extractor = ConllExtractor()\n",
    "    text_blob_features = np.zeros((len(corpus),4))\n",
    "    blob_sentiment_analyzer = Blobber(analyzer=NaiveBayesAnalyzer())\n",
    "    for i,each_text in enumerate(corpus):\n",
    "        text_blob_features[i,0]=blob_sentiment_analyzer(each_text).sentiment[1]\n",
    "        text_blob_features[i,1]=blob_sentiment_analyzer(each_text).sentiment[2]\n",
    "        text_blob_features[i,2]= TextBlob(each_text).subjectivity\n",
    "        noun_phrase_extractor = TextBlob(each_text, np_extractor=extractor)\n",
    "        text_blob_features[i,3]= len(noun_phrase_extractor.noun_phrases)\n",
    "    return text_blob_features"
   ]
  },
  {
   "cell_type": "code",
   "execution_count": null,
   "metadata": {},
   "outputs": [],
   "source": [
    "X_train=train_data['reviews.text']\n",
    "y_train=train_data[\"sentiment_label\"]\n",
    "X_test=test_data[\"reviews.text\"]\n",
    "y_test=test_data[\"sentiment_label\"]"
   ]
  },
  {
   "cell_type": "code",
   "execution_count": null,
   "metadata": {},
   "outputs": [],
   "source": [
    "Xtr_tb_features = extractTextBlobFeatures(X_train)\n",
    "Xte_tb_features = extractTextBlobFeatures(X_test)\n",
    "ytr_tb_features = extractTextBlobFeatures(y_train)\n",
    "yte_tb_features = extractTextBlobFeatures(y_test)"
   ]
  },
  {
   "cell_type": "code",
   "execution_count": null,
   "metadata": {},
   "outputs": [],
   "source": [
    "Xtr_tb_features"
   ]
  },
  {
   "cell_type": "code",
   "execution_count": null,
   "metadata": {},
   "outputs": [],
   "source": [
    "# Xtr= np.array(Xtr_tb_features.ravel(),)\n",
    "# ytr=np.array(ytr_tb_features.ravel(),)\n",
    "\n",
    "# Xte = np.array(Xte_tb_features.ravel(),)\n",
    "# yte = np.array(yte_tb_features.ravel(),)"
   ]
  },
  {
   "cell_type": "code",
   "execution_count": null,
   "metadata": {},
   "outputs": [],
   "source": []
  },
  {
   "cell_type": "code",
   "execution_count": null,
   "metadata": {},
   "outputs": [],
   "source": [
    "# ## use multinomial NB classifier\n",
    "# clf_multiNB_pipe = Pipeline([(\"vect\", CountVectorizer()), (\"tfidf\", TfidfTransformer()), (\"clf_nominalNB\", MultinomialNB())])\n",
    "# clf_multiNB_pipe.fit(Xtr, ytr)\n",
    "# predicted_nb = clf_multiNB_pipe.predict(Xte)\n",
    "# print(\"accuracy metrics for training naive bayes classifier:\\n\",metrics.classification_report(yte, predicted_nb, target_names = ['1','0','-1']))\n",
    "# print(\"======================================================================================\")"
   ]
  },
  {
   "cell_type": "code",
   "execution_count": null,
   "metadata": {},
   "outputs": [],
   "source": [
    "Xte_tb_features"
   ]
  },
  {
   "cell_type": "code",
   "execution_count": null,
   "metadata": {},
   "outputs": [],
   "source": [
    "ytr_tb_features"
   ]
  },
  {
   "cell_type": "markdown",
   "metadata": {},
   "source": [
    "## Train different machine learning classifiers"
   ]
  },
  {
   "cell_type": "code",
   "execution_count": null,
   "metadata": {},
   "outputs": [],
   "source": [
    "## helper function to train different machine learning classifiers\n",
    "def train_classifiers(Xtrain, Xtest, Ytrain, Ytest):\n",
    "    kf = KFold(n_splits=10, shuffle=True)\n",
    "    # ,'class_weight':{1:.9, 2:.5, 3:.01}\n",
    "    params = [{'max_depth':1,'criterion':'entropy'},{}, {'loss': 'log', 'penalty': 'l2', 'max_iter':1000},{},{},{}]\n",
    "    Models = [DecisionTreeClassifier,LogisticRegression, linear_model.SGDClassifier, MultinomialNB, RandomForestClassifier, SVC]\n",
    "    accuracy_list = list()\n",
    "    accuracy_metrics = list()\n",
    "    for param, Model in zip(params, Models):\n",
    "        total = 0\n",
    "        for train_indices, test_indices in kf.split(Xtrain):\n",
    "            train_X = Xtrain[train_indices, :]; train_Y = Ytrain[train_indices]\n",
    "            test_X = Xtrain[test_indices, :]; test_Y = Ytrain[test_indices]\n",
    "            reg = Model(**param)\n",
    "            reg.fit(train_X, train_Y)\n",
    "            predictions = reg.predict(test_X)\n",
    "            total += accuracy_score(test_Y, predictions)\n",
    "        accuracy = total / kf.n_splits\n",
    "        reg = Model(**param)\n",
    "        reg.fit(Xtrain, Ytrain)\n",
    "        predictions = reg.predict(Xtest)\n",
    "        accuracy_list.append((Model.__name__, accuracy))\n",
    "        accuracy_metrics.append((Model.__name__, classification_report(Ytest, predictions)))\n",
    "\n",
    "    for i, value in enumerate(accuracy_list):\n",
    "        print(\"Accuracy score of {0}: {1}\".format(value[0],value[1]))\n",
    "        print(\"accuracy metrics for {0}:\\n{1}\".format(accuracy_metrics[i][0], accuracy_metrics[i][1]))"
   ]
  }
 ],
 "metadata": {
  "kernelspec": {
   "display_name": "Python 3",
   "language": "python",
   "name": "python3"
  },
  "language_info": {
   "codemirror_mode": {
    "name": "ipython",
    "version": 3
   },
   "file_extension": ".py",
   "mimetype": "text/x-python",
   "name": "python",
   "nbconvert_exporter": "python",
   "pygments_lexer": "ipython3",
   "version": "3.7.4"
  }
 },
 "nbformat": 4,
 "nbformat_minor": 2
}
